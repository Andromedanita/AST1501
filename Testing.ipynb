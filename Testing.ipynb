{
 "cells": [
  {
   "cell_type": "code",
   "execution_count": 14,
   "metadata": {
    "collapsed": true
   },
   "outputs": [],
   "source": [
    "import numpy as np"
   ]
  },
  {
   "cell_type": "code",
   "execution_count": 15,
   "metadata": {
    "collapsed": true
   },
   "outputs": [],
   "source": [
    "import galpy"
   ]
  },
  {
   "cell_type": "code",
   "execution_count": 16,
   "metadata": {
    "collapsed": false
   },
   "outputs": [
    {
     "name": "stdout",
     "output_type": "stream",
     "text": [
      "Populating the interactive namespace from numpy and matplotlib\n"
     ]
    }
   ],
   "source": [
    "%pylab inline"
   ]
  },
  {
   "cell_type": "code",
   "execution_count": 17,
   "metadata": {
    "collapsed": true
   },
   "outputs": [],
   "source": [
    "import matplotlib.pyplot as plt"
   ]
  },
  {
   "cell_type": "code",
   "execution_count": null,
   "metadata": {
    "collapsed": true
   },
   "outputs": [],
   "source": []
  },
  {
   "cell_type": "code",
   "execution_count": null,
   "metadata": {
    "collapsed": false
   },
   "outputs": [],
   "source": []
  },
  {
   "cell_type": "code",
   "execution_count": 20,
   "metadata": {
    "collapsed": true
   },
   "outputs": [],
   "source": [
    "M      = np.zeros((3,3))\n",
    "M[0,:] = [-0.4776303088,-0.1738432154,0.8611897727]\n",
    "M[1,:] = [ 0.510844589 ,-0.8524449229,0.111245042 ]\n",
    "M[2,:] = [ 0.7147776536, 0.4930681392,0.4959603976]\n"
   ]
  },
  {
   "cell_type": "code",
   "execution_count": null,
   "metadata": {
    "collapsed": false
   },
   "outputs": [],
   "source": []
  },
  {
   "cell_type": "code",
   "execution_count": 22,
   "metadata": {
    "collapsed": true
   },
   "outputs": [],
   "source": [
    "def phi12_to_radec(phi1,phi2,degree=False):\n",
    "    \"\"\"\n",
    "    Converting phi1 and phi2 to right ascension \n",
    "    and declination\n",
    "    \"\"\"\n",
    "    \n",
    "    phiXYZ = np.array([np.cos(phi2)*np.cos(phi1),\n",
    "                          np.cos(phi2)*np.sin(phi1),\n",
    "                          np.sin(phi2)])\n",
    "    eqXYZ  = np.dot(M.T,phiXYZ)\n",
    "    dec    = np.arcsin(eqXYZ[2])\n",
    "    ra     = np.arctan2(eqXYZ[1],eqXYZ[0])\n",
    "    \n",
    "    if ra < 0.:\n",
    "        ra += 2.*np.pi\n",
    "    \n",
    "    if degree == True:\n",
    "        dec *= 180./np.pi\n",
    "        ra  *= 180./np.pi\n",
    "    return np.array([dec,ra])"
   ]
  },
  {
   "cell_type": "code",
   "execution_count": null,
   "metadata": {
    "collapsed": false
   },
   "outputs": [],
   "source": []
  },
  {
   "cell_type": "code",
   "execution_count": 25,
   "metadata": {
    "collapsed": true
   },
   "outputs": [],
   "source": [
    "def radec_to_xyz(dec,ra,degree=False):\n",
    "    \"\"\"\n",
    "    Converting right ascension and declination to \n",
    "    cartesian coordinates\n",
    "    \"\"\"\n",
    "    \n",
    "    if degree == True:\n",
    "        dec *= np.pi/180.\n",
    "        ra  *= np.pi/180.\n",
    "    \n",
    "    x = np.cos(dec) * np.cos(ra)\n",
    "    y = np.cos(dec) * np.sin(ra)\n",
    "    z = np.sin(ra)\n",
    "\n",
    "    return np.array([x,y,z])\n",
    "\n",
    "\n",
    "def xyz_to_cyl(x,y,z):\n",
    "    \"\"\"\n",
    "    Conversion of Cartesian coordinates to \n",
    "    cylindrical coordinates\n",
    "    \"\"\"\n",
    "    \n",
    "    R   = np.sqrt((x**2) + (y**2))\n",
    "    phi = np.arctan(y/x)\n",
    "    return np.array([R,z,phi])\n",
    "\n",
    "\n",
    "def vxvyvz_to_vrvtvz(x,y,z,vx,vy,vz):\n",
    "    \"\"\"\n",
    "    Conversion of velocities in Cartesian coordinates \n",
    "    to Cylindrical coordinates\n",
    "    \"\"\"\n",
    "    R,z,phi = xyz_to_cyl(x,y,z)\n",
    "    vr      =  vx * np.cos(phi) + vy * np.sin(phi)\n",
    "    vt      = -vx * np.sin(phi) + vy * np.cos(phi)\n",
    "\n",
    "    return np.array([vr,vt,vz])\n",
    "\n"
   ]
  },
  {
   "cell_type": "code",
   "execution_count": 26,
   "metadata": {
    "collapsed": true
   },
   "outputs": [],
   "source": [
    "#----------------------------------------------------------\n",
    "#           Data in tables 1-4 of Koposov 2010\n",
    "#----------------------------------------------------------\n",
    "\n",
    "def table1_kop2010():\n",
    "    \"\"\"\n",
    "    Table 1 of Koposov 2010, phi1 and radial velocities\n",
    "    \"\"\"\n",
    "    \n",
    "    phi1 = np.array([-45.23,-43.17,-39.54,-39.25,-37.95,\n",
    "                     -37.96,-35.49,-35.27,-34.92,-34.74,\n",
    "                     -33.74,-32.90,-32.25,-29.95,-26.61,\n",
    "                     -25.45,-24.86,-21.21,-14.47,-13.73,\n",
    "                     -13.02,-12.68,-12.55])\n",
    "                     \n",
    "    Vrad = np.array([28.8,29.3,2.9,-5.2,1.1,-11.7,-50.4,\n",
    "                     -30.9,-35.3,-30.9,-74.3,-71.5,-71.5,\n",
    "                     -92.7,-114.2,-67.8,-111.2,-144.4,\n",
    "                     -179.0,-191.4,-162.9,-217.2,-172.2])\n",
    "                     \n",
    "    V_err = np.array([6.9,10.2,8.7,6.5,5.6,11.2,5.2,12.8,\n",
    "                      7.5,9.2,9.8,9.6,9.2,8.7,7.3,7.1,\n",
    "                      17.8,10.5,10.0,7.5,9.6,10.7,6.6])\n",
    "\n",
    "    return phi1,Vrad,V_err\n",
    "\n"
   ]
  },
  {
   "cell_type": "code",
   "execution_count": 27,
   "metadata": {
    "collapsed": true
   },
   "outputs": [],
   "source": [
    "def table2_kop2010():\n",
    "    \"\"\"\n",
    "    Table 2 of Koposov 2010, phi1 and phi2\n",
    "    \"\"\"\n",
    "\n",
    "    phi1     = np.array([-60.,-56.,-54.,-48.,-44.,-40.,\n",
    "                         -36.,-34.,-32.,-30.,-28.,-24.,\n",
    "                         -22.,-18.,-12.,-2.])\n",
    "                         \n",
    "    phi2     = np.array([-0.64,-0.89,-0.45,-0.08,0.01,\n",
    "                         -0.,0.04,0.06,0.4,0.08,0.03,\n",
    "                         0.06,0.06,-0.05,-0.29,-0.87])\n",
    "                         \n",
    "    phi2_err = np.array([0.15,0.27,0.15,0.13,0.14,0.09,\n",
    "                         0.10,0.13,0.06,0.10,0.12,0.05,\n",
    "                         0.13,0.11,0.16,0.07])\n",
    "    \n",
    "    return phi1,phi2,phi2_err\n",
    "\n",
    "\n",
    "def table3_kop2010():\n",
    "    \"\"\"\n",
    "    Table 3 of Koposov 2010, phi1 and distance in kpc\n",
    "    \"\"\"\n",
    "    \n",
    "    phi1     = np.array([-55.,-45.,-35.,-25.,-15.,0.])\n",
    "    dist     = np.array([7.2,7.59,7.83,8.69,8.91,9.86])\n",
    "    dist_err = np.array([0.30,0.40,0.30,0.40,0.40,0.50])\n",
    "\n",
    "    return phi1,dist,dist_err\n",
    "\n",
    "\n",
    "def table4_kop2010():\n",
    "    \"\"\"\n",
    "    Table 4 of Koposov 2010, phi1 and proper motion \n",
    "    in phi1 nd phi2 directions\n",
    "    \"\"\"\n",
    "\n",
    "    phi1  = np.array([-55.,-45.,-35.,-25.,-15.])\n",
    "    mu1   = np.array([-13.60,-13.10,-12.20,-12.60,-10.80])\n",
    "    mu2   = np.array([-5.70,-3.30,-3.10,-2.7,-2.8])\n",
    "    sigma = np.array([1.3,0.70,1.00,1.40,1.00])\n",
    "\n",
    "    return phi1,mu1,mu2,sigma\n",
    "\n"
   ]
  },
  {
   "cell_type": "code",
   "execution_count": null,
   "metadata": {
    "collapsed": false
   },
   "outputs": [],
   "source": []
  },
  {
   "cell_type": "code",
   "execution_count": 29,
   "metadata": {
    "collapsed": true
   },
   "outputs": [],
   "source": [
    "import numpy            as     np\n",
    "import matplotlib.pylab as     plt\n",
    "from   galpy.util       import bovy_coords\n",
    "from   galpy            import potential\n",
    "from   galpy.orbit      import Orbit"
   ]
  },
  {
   "cell_type": "code",
   "execution_count": 30,
   "metadata": {
    "collapsed": false
   },
   "outputs": [
    {
     "name": "stdout",
     "output_type": "stream",
     "text": [
      "galpyWarning: Using C implementation to integrate orbits\n"
     ]
    }
   ],
   "source": [
    "def likelihood(x_model,x_data,x_err):\n",
    "    \"\"\"\n",
    "    Returning log likelihood of the data\n",
    "    \"\"\"\n",
    "    \n",
    "    val = np.exp((-((x_model-x_data)**2))/(2.*(x_err**2)))\n",
    "    return val\n",
    "\n",
    "#----------------------------------------------------------\n",
    "#            Coordinate tranformation of GD-1 data\n",
    "#----------------------------------------------------------\n",
    "phi1,phi2,phi2_err = table2_kop2010()\n",
    "dec                = np.zeros(len(phi1))\n",
    "ra                 = np.zeros(len(phi1))\n",
    "\n",
    "# converting phi1 and phi2 to RA and DEC\n",
    "for i in range(len(phi1)):\n",
    "    dec[i],ra[i] = phi12_to_radec(phi1[i],phi2[i],degree=False)\n",
    "\n",
    "# converting RA and DEC to xyz cartesian coordinates\n",
    "x,y,z       = radec_to_xyz(dec,ra,degree=False)\n",
    "\n",
    "# converting xyz cartesian coordinates to cylindrical coordinates\n",
    "R,z_cyl,phi = xyz_to_cyl(x,y,z)\n",
    "\n",
    "# converting cartesian velocities to cylindrical velocities\n",
    "#vR,vt,vz    = vxvyvz_to_vrvtvz(x,y,z,vx,vy,vz)\n",
    "\n",
    "\n",
    "#----------------------------------------------------------\n",
    "#    Using galpy to initialize orbit and integrate it\n",
    "#----------------------------------------------------------\n",
    "p    = potential.LogarithmicHaloPotential(q=0.9,normalize=1)\n",
    "vR   = p.Rforce(R,z_cyl,phi,t=0)\n",
    "\n",
    "ts   = 1000 # number of timesteps\n",
    "time = np.linspace(0.,1e2,ts)\n",
    "o    = Orbit(vxvv=[1.,0.1,1.1,0.,0.1,0.],ro=8.,vo=220.) #initial condition of the orbit\n",
    "#o    = Orbit(vxvv=[R,vR,vt,z_cyl,vz,phi],ro=8.,vo=220.)\n",
    "o.integrate(time,p)\n"
   ]
  },
  {
   "cell_type": "markdown",
   "metadata": {},
   "source": [
    "plt.ion()\n",
    "o.plot()"
   ]
  },
  {
   "cell_type": "code",
   "execution_count": 32,
   "metadata": {
    "collapsed": false
   },
   "outputs": [
    {
     "data": {
      "image/png": "[encoded data removed]",
      "text/plain": [
       "<matplotlib.figure.Figure at 0x1105170d0>"
      ]
     },
     "metadata": {},
     "output_type": "display_data"
    }
   ],
   "source": [
    "o.plot3d()"
   ]
  },
  {
   "cell_type": "markdown",
   "metadata": {},
   "source": [
    "This is a cool plot!\n"
   ]
  },
  {
   "cell_type": "code",
   "execution_count": null,
   "metadata": {
    "collapsed": true
   },
   "outputs": [],
   "source": []
  }
 ],
 "metadata": {
  "kernelspec": {
   "display_name": "Python 2",
   "language": "python",
   "name": "python2"
  },
  "language_info": {
   "codemirror_mode": {
    "name": "ipython",
    "version": 2
   },
   "file_extension": ".py",
   "mimetype": "text/x-python",
   "name": "python",
   "nbconvert_exporter": "python",
   "pygments_lexer": "ipython2",
   "version": "2.7.10"
  }
 },
 "nbformat": 4,
 "nbformat_minor": 0
}
