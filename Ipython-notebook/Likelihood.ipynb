{
 "cells": [
  {
   "cell_type": "code",
   "execution_count": 3,
   "metadata": {
    "collapsed": false
   },
   "outputs": [
    {
     "name": "stdout",
     "output_type": "stream",
     "text": [
      "Populating the interactive namespace from numpy and matplotlib\n"
     ]
    }
   ],
   "source": [
    "from   GD1_funcs    import *\n",
    "import mw_transform as     mw\n",
    "import matplotlib.pyplot as plt\n",
    "%pylab inline"
   ]
  },
  {
   "cell_type": "code",
   "execution_count": 5,
   "metadata": {
    "collapsed": true
   },
   "outputs": [],
   "source": [
    "# initial positions in cartesian coordinates in natural units\n",
    "xi,yi,zi = np.array([3.41,13.00,9.58]) # (kpc) in physical units (same as Koposov 2010)\n",
    "                                       #  with x sign flipped\n",
    "# initial velocities in cartesian coordinates in natural units\n",
    "vxi,vyi,vzi = np.array([200.4,-162.6,13.9]) # (km/s) in physical units\n",
    "\n",
    "# initial coordinates in cylindrical coordinates\n",
    "Ri,zcyli,phii = xyz_to_cyl(xi,yi,zi) # phi is in radians\n",
    "\n",
    "# initial velocities in cylindrical coordinates\n",
    "vri,vti,vzcyli = vxvyvz_to_vrvtvz(xi,yi,zi,vxi,vyi,vzi)\n",
    "\n",
    "ts   = 1000 # number of timesteps\n",
    "time = np.linspace(0.,1e1,ts)\n",
    "\n",
    "phi1_pos,phi2_pos,phi2_err = table2_kop2010()\n",
    "phi1_dist,dist,dist_err    = table3_kop2010()\n",
    "phi1_vrad,Vrad,V_err       = table1_kop2010()\n",
    "phi1_mu,mu1,mu2,sigma_mu   = table4_kop2010()\n",
    "\n",
    "\n",
    "x_err_pos  = np.ones(len(phi1_pos))\n",
    "x_err_dist = np.ones(len(phi1_dist))\n",
    "x_err_vrad = np.ones(len(phi1_vrad))\n",
    "x_err_mu   = np.ones(len(phi1_mu))\n"
   ]
  },
  {
   "cell_type": "code",
   "execution_count": 6,
   "metadata": {
    "collapsed": true
   },
   "outputs": [],
   "source": [
    "def contour_singlebox(Vc,q):\n",
    "    ro = 8.5\n",
    "    vo = Vc\n",
    "    p  = potential.LogarithmicHaloPotential(q=q,normalize=1)\n",
    "    o    = Orbit(vxvv=[Ri/ro,vri/vo,vti/vo,zcyli/ro,vzcyli/vo,phii],ro=ro,vo=vo)\n",
    "    o.integrate(time,p)\n",
    "    \n",
    "    # Orbit in Galactic coordinates\n",
    "    lval = o.ll(time,ro = ro,obs= [ro,0.,0.])\n",
    "    bval = o.bb(time,ro = ro,obs= [ro,0.,0.])\n",
    "    \n",
    "    \n",
    "    pmll = o.pmll(time, ro = ro, obs=[ro,0.,0.,0.,vo,0.])\n",
    "    pmbb = o.pmbb(time, ro = ro, obs=[ro,0.,0.,0.,vo,0.])\n",
    "\n",
    "    galpy_vel  = mw.pmllpmbb_to_pmphi12(pmll,pmbb,lval,bval,degree=True)\n",
    "    vrad_galpy = o.vlos(time)\n",
    "    \n",
    "\n",
    "    phi12 = mw.lb_to_phi12(lval,bval,degree=True)\n",
    "    phi12[phi12[:,0] > 180,0]-= 360.\n",
    "\n",
    "\n",
    "\n",
    "    L_pos  = likelihood_all(phi12[:,0],phi1_pos,x_err_pos,phi12[:,1],phi2_pos,phi2_err,time)\n",
    "    L_dist = likelihood_all(phi12[:,0],phi1_dist,x_err_dist,o.dist(time),dist,dist_err,time)\n",
    "    L_vrad = likelihood_all(phi12[:,0],phi1_vrad,x_err_vrad,vrad_galpy,Vrad,V_err,time)\n",
    "    L_mu1  = likelihood_all(phi12[:,0],phi1_mu,x_err_mu,galpy_vel.T[0],mu1,sigma_mu,time)\n",
    "    L_mu2  = likelihood_all(phi12[:,0],phi1_mu,x_err_mu,galpy_vel.T[1],mu2,sigma_mu,time)\n",
    "    L_total = L_pos + L_dist + L_vrad + L_mu1 + L_mu2\n",
    "    return L_total"
   ]
  },
  {
   "cell_type": "code",
   "execution_count": null,
   "metadata": {
    "collapsed": false
   },
   "outputs": [
    {
     "name": "stdout",
     "output_type": "stream",
     "text": [
      "0\n",
      "galpyWarning: Using C implementation to integrate orbits\n",
      "1\n",
      "2\n",
      "3\n",
      "4\n",
      "5\n",
      "6\n",
      "7\n",
      "8\n",
      "9\n",
      "10\n",
      "11"
     ]
    }
   ],
   "source": [
    "Vc_list = np.linspace(160.,300.,30)\n",
    "q_list  = np.linspace(0.4,1.6,30)\n",
    "\n",
    "\n",
    "table = np.zeros([len(Vc_list),len(q_list)])\n",
    "\n",
    "for i in range(len(Vc_list)):\n",
    "    print i\n",
    "    for j in range(len(q_list)):\n",
    "        table[j][i] = contour_singlebox(Vc_list[i],q_list[j])\n"
   ]
  },
  {
   "cell_type": "code",
   "execution_count": null,
   "metadata": {
    "collapsed": true
   },
   "outputs": [],
   "source": []
  }
 ],
 "metadata": {
  "kernelspec": {
   "display_name": "Python 2",
   "language": "python",
   "name": "python2"
  },
  "language_info": {
   "codemirror_mode": {
    "name": "ipython",
    "version": 2
   },
   "file_extension": ".py",
   "mimetype": "text/x-python",
   "name": "python",
   "nbconvert_exporter": "python",
   "pygments_lexer": "ipython2",
   "version": "2.7.10"
  }
 },
 "nbformat": 4,
 "nbformat_minor": 0
}
